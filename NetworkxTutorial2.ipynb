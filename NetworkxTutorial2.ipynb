{
 "cells": [
  {
   "cell_type": "markdown",
   "metadata": {},
   "source": [
    "### Centrality measures"
   ]
  },
  {
   "cell_type": "code",
   "execution_count": null,
   "metadata": {
    "collapsed": true
   },
   "outputs": [],
   "source": [
    "%reset -f"
   ]
  },
  {
   "cell_type": "code",
   "execution_count": null,
   "metadata": {
    "collapsed": true
   },
   "outputs": [],
   "source": [
    "import networkx as nx\n",
    "import matplotlib.pyplot as plt\n",
    "import collections"
   ]
  },
  {
   "cell_type": "code",
   "execution_count": null,
   "metadata": {},
   "outputs": [],
   "source": [
    "G6 = nx.karate_club_graph()\n",
    "nx.draw(G6, with_labels=False,\n",
    "        node_size=[100*_ for _ in nx.degree_centrality(G6).values()],\n",
    "        pos=nx.layout.circular_layout(G6))\n",
    "plt.show()"
   ]
  },
  {
   "cell_type": "code",
   "execution_count": null,
   "metadata": {},
   "outputs": [],
   "source": [
    "# for the karate-club graph\n",
    "nx.degree_centrality(G6)"
   ]
  },
  {
   "cell_type": "code",
   "execution_count": null,
   "metadata": {},
   "outputs": [],
   "source": [
    "val_map = nx.degree_centrality(G6)\n",
    "values = [val_map.get(node, 0.25) for node in G6.nodes()]\n",
    "\n",
    "nx.draw(G6, cmap=plt.get_cmap('jet'), with_labels= True,  node_size=[1000*_ for _ in nx.degree_centrality(G6).values()], node_color=values)\n",
    "plt.show()"
   ]
  },
  {
   "cell_type": "code",
   "execution_count": null,
   "metadata": {},
   "outputs": [],
   "source": [
    "nx.betweenness_centrality(G6)"
   ]
  },
  {
   "cell_type": "code",
   "execution_count": null,
   "metadata": {},
   "outputs": [],
   "source": [
    "val_map = nx.betweenness_centrality(G6)\n",
    "values = [val_map.get(node, 0.25) for node in G6.nodes()]\n",
    "\n",
    "nx.draw(G6, cmap=plt.get_cmap('jet'), with_labels= True, node_size=[1000*_ for _ in nx.betweenness_centrality(G6).values()],  node_color=values)\n",
    "plt.show()"
   ]
  },
  {
   "cell_type": "code",
   "execution_count": null,
   "metadata": {},
   "outputs": [],
   "source": [
    "nx.closeness_centrality(G6)"
   ]
  },
  {
   "cell_type": "code",
   "execution_count": null,
   "metadata": {},
   "outputs": [],
   "source": [
    "val_map = nx.closeness_centrality(G6)\n",
    "values = [val_map.get(node, 0.25) for node in G6.nodes()]\n",
    "\n",
    "nx.draw(G6, cmap=plt.get_cmap('jet'), with_labels= True, node_size=[1000*_ for _ in nx.closeness_centrality(G6).values()],  node_color=values)\n",
    "plt.show()"
   ]
  },
  {
   "cell_type": "code",
   "execution_count": null,
   "metadata": {},
   "outputs": [],
   "source": [
    "nx.eigenvector_centrality(G6)"
   ]
  },
  {
   "cell_type": "code",
   "execution_count": null,
   "metadata": {},
   "outputs": [],
   "source": [
    "val_map = nx.eigenvector_centrality(G6)\n",
    "values = [val_map.get(node, 0.25) for node in G6.nodes()]\n",
    "\n",
    "nx.draw(G6, cmap=plt.get_cmap('jet'), with_labels= True, node_size=[1000*_ for _ in nx.eigenvector_centrality(G6).values()],  node_color=values)\n",
    "plt.show()"
   ]
  },
  {
   "cell_type": "markdown",
   "metadata": {
    "collapsed": true
   },
   "source": [
    "### Communities in networks"
   ]
  },
  {
   "cell_type": "code",
   "execution_count": null,
   "metadata": {},
   "outputs": [],
   "source": [
    "# community package is not included in networkx\n",
    "# download the package from https://github.com/taynaud/python-louvain\n",
    "# just unzip the package and do a python setup.py install\n",
    "\n",
    "import community\n",
    "partition = community.best_partition(G6)\n",
    "values = [partition.get(node, 0.25) for node in G6.nodes()]\n",
    "pos = nx.spring_layout(G6)\n",
    "nx.draw(G6, cmap=plt.get_cmap('jet'), with_labels= True, node_size=450,  node_color=values)\n",
    "plt.show()"
   ]
  },
  {
   "cell_type": "code",
   "execution_count": null,
   "metadata": {},
   "outputs": [],
   "source": [
    "community.modularity(partition, G6)"
   ]
  },
  {
   "cell_type": "code",
   "execution_count": null,
   "metadata": {
    "collapsed": true
   },
   "outputs": [],
   "source": []
  }
 ],
 "metadata": {
  "kernelspec": {
   "display_name": "Python 3",
   "language": "python",
   "name": "python3"
  },
  "language_info": {
   "codemirror_mode": {
    "name": "ipython",
    "version": 3
   },
   "file_extension": ".py",
   "mimetype": "text/x-python",
   "name": "python",
   "nbconvert_exporter": "python",
   "pygments_lexer": "ipython3",
   "version": "3.6.1"
  }
 },
 "nbformat": 4,
 "nbformat_minor": 2
}
